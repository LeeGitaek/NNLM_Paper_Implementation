{
  "nbformat": 4,
  "nbformat_minor": 0,
  "metadata": {
    "colab": {
      "name": "NNLM_paper.ipynb",
      "provenance": [],
      "authorship_tag": "ABX9TyOb9IGi05PL+SlziEQaZIkf",
      "include_colab_link": true
    },
    "kernelspec": {
      "name": "python3",
      "display_name": "Python 3"
    },
    "accelerator": "GPU"
  },
  "cells": [
    {
      "cell_type": "markdown",
      "metadata": {
        "id": "view-in-github",
        "colab_type": "text"
      },
      "source": [
        "<a href=\"https://colab.research.google.com/github/LeeGitaek/NNLM_Paper_Implementation/blob/master/NNLM_paper.ipynb\" target=\"_parent\"><img src=\"https://colab.research.google.com/assets/colab-badge.svg\" alt=\"Open In Colab\"/></a>"
      ]
    },
    {
      "cell_type": "code",
      "metadata": {
        "id": "OlEZWC4Mlgfo",
        "colab_type": "code",
        "colab": {}
      },
      "source": [
        "import torch \n",
        "import torch.nn as nn \n",
        "import torch.optim as optim \n",
        "import numpy as np \n",
        "from torch.autograd import Variable\n"
      ],
      "execution_count": 31,
      "outputs": []
    },
    {
      "cell_type": "code",
      "metadata": {
        "id": "o-rovcB3CwYM",
        "colab_type": "code",
        "colab": {}
      },
      "source": [
        "device = 'cuda' if torch.cuda.is_available() else 'cpu'\n",
        "\n",
        "torch.manual_seed(777)\n",
        "if device == 'cuda':\n",
        "  torch.cuda.manual_seed_all(777)"
      ],
      "execution_count": 32,
      "outputs": []
    },
    {
      "cell_type": "code",
      "metadata": {
        "id": "Yzyk7-XG4yUV",
        "colab_type": "code",
        "colab": {
          "base_uri": "https://localhost:8080/",
          "height": 102
        },
        "outputId": "9a1f00ab-c2d3-489a-f5a6-df6438cb2c14"
      },
      "source": [
        "sentences = ['i like dog','i love coffee','i hate milk']\n",
        "\n",
        "word_list = ' '.join(sentences).split()\n",
        "word_list = list(set(word_list))\n",
        "print(word_list)\n",
        "\n",
        "word_dict = {w: i for i,w in enumerate(word_list)}\n",
        "print('word dict')\n",
        "print(word_dict)\n",
        "number_dict = {i: w for i, w in enumerate(word_list)}\n",
        "print(number_dict)\n",
        "n_class = len(word_dict) # number of vocabulary\n",
        "\n",
        "print(n_class)"
      ],
      "execution_count": 33,
      "outputs": [
        {
          "output_type": "stream",
          "text": [
            "['dog', 'love', 'like', 'milk', 'hate', 'i', 'coffee']\n",
            "word dict\n",
            "{'dog': 0, 'love': 1, 'like': 2, 'milk': 3, 'hate': 4, 'i': 5, 'coffee': 6}\n",
            "{0: 'dog', 1: 'love', 2: 'like', 3: 'milk', 4: 'hate', 5: 'i', 6: 'coffee'}\n",
            "7\n"
          ],
          "name": "stdout"
        }
      ]
    },
    {
      "cell_type": "code",
      "metadata": {
        "id": "JDje4auo5UQL",
        "colab_type": "code",
        "colab": {}
      },
      "source": [
        "#NNLM Parameter\n",
        "n_step = 2 # n-1 in paper\n",
        "n_hidden = 2 # h in paper \n",
        "m = 2       # m in paper \n",
        "epochs = 5000\n",
        "learning_rate = 0.001"
      ],
      "execution_count": 34,
      "outputs": []
    },
    {
      "cell_type": "code",
      "metadata": {
        "id": "lmp8W_Ze5gLz",
        "colab_type": "code",
        "colab": {}
      },
      "source": [
        "def make_batch(sentences):\n",
        "    input_batch = []\n",
        "    target_batch = []\n",
        "    \n",
        "    for sen in sentences:\n",
        "        word = sen.split()\n",
        "        input = [word_dict[n] for n in word[:-1]]\n",
        "        target = word_dict[word[-1]]\n",
        "\n",
        "        input_batch.append(input)\n",
        "        target_batch.append(target)\n",
        "    \n",
        "    return input_batch,target_batch\n",
        "\n",
        "\n",
        "#model \n",
        "\n",
        "class NNLM(nn.Module):\n",
        "    def __init__(self):\n",
        "        super(NNLM,self).__init__()\n",
        "\n",
        "        self.C = nn.Embedding(n_class,m)\n",
        "        self.H = nn.Parameter(torch.randn(n_step * m,n_hidden).type(torch.Tensor))\n",
        "        self.W = nn.Parameter(torch.randn(n_step * m,n_class).type(torch.Tensor))\n",
        "        self.d = nn.Parameter(torch.randn(n_hidden).type(torch.Tensor))\n",
        "        self.U = nn.Parameter(torch.randn(n_hidden,n_class).type(torch.Tensor))\n",
        "        self.b = nn.Parameter(torch.randn(n_class).type(torch.Tensor))\n",
        "    \n",
        "    def forward(self,x):\n",
        "        x = self.C(x)\n",
        "        x = x.view(-1,n_step*m) # batch_size,n_step * n_class\n",
        "        tanh = torch.tanh(self.d + torch.mm(x,self.H))\n",
        "        output = self.b + torch.mm(x,self.W)+torch.mm(tanh,self.U)\n",
        "        return output\n",
        "model = NNLM()\n"
      ],
      "execution_count": 35,
      "outputs": []
    },
    {
      "cell_type": "code",
      "metadata": {
        "id": "cuMQSdMcB7so",
        "colab_type": "code",
        "colab": {
          "base_uri": "https://localhost:8080/",
          "height": 68
        },
        "outputId": "3b1ad542-fb77-4049-8e7c-e67e45876aba"
      },
      "source": [
        "criterion = nn.CrossEntropyLoss()\n",
        "optimizer = optim.Adam(model.parameters(),lr=learning_rate)\n",
        "\n",
        "input_batch , target_batch = make_batch(sentences)\n",
        "print(input_batch)\n",
        "print('target_batch')\n",
        "print(target_batch)\n",
        "input_batch = Variable(torch.LongTensor(input_batch))\n",
        "target_batch = Variable(torch.LongTensor(target_batch))\n"
      ],
      "execution_count": 36,
      "outputs": [
        {
          "output_type": "stream",
          "text": [
            "[[5, 2], [5, 1], [5, 4]]\n",
            "target_batch\n",
            "[0, 6, 3]\n"
          ],
          "name": "stdout"
        }
      ]
    },
    {
      "cell_type": "code",
      "metadata": {
        "id": "-EawqNHTKI-u",
        "colab_type": "code",
        "colab": {
          "base_uri": "https://localhost:8080/",
          "height": 884
        },
        "outputId": "58ae6513-ce3b-4e7b-d719-e5d0b6283f2c"
      },
      "source": [
        "for epoch in range(epochs):\n",
        "    optimizer.zero_grad()\n",
        "    output = model(input_batch)\n",
        "\n",
        "    loss = criterion(output,target_batch)\n",
        "    if (epoch+1)%100 == 0:\n",
        "        print('epoch : {:.4f} , cost = {:.6f}'.format(epoch+1,loss))\n",
        "\n",
        "    loss.backward()\n",
        "    optimizer.step()\n",
        "\n",
        "\n",
        "predict = model(input_batch).data.max(1,keepdim=True)[1]\n",
        "\n",
        "print([sen.split()[:2] for sen in sentences],'->',[number_dict[n.item()] for n in predict.squeeze()])\n"
      ],
      "execution_count": 38,
      "outputs": [
        {
          "output_type": "stream",
          "text": [
            "epoch : 100.0000 , cost = 0.002870\n",
            "epoch : 200.0000 , cost = 0.002688\n",
            "epoch : 300.0000 , cost = 0.002518\n",
            "epoch : 400.0000 , cost = 0.002360\n",
            "epoch : 500.0000 , cost = 0.002213\n",
            "epoch : 600.0000 , cost = 0.002076\n",
            "epoch : 700.0000 , cost = 0.001949\n",
            "epoch : 800.0000 , cost = 0.001829\n",
            "epoch : 900.0000 , cost = 0.001718\n",
            "epoch : 1000.0000 , cost = 0.001614\n",
            "epoch : 1100.0000 , cost = 0.001516\n",
            "epoch : 1200.0000 , cost = 0.001425\n",
            "epoch : 1300.0000 , cost = 0.001340\n",
            "epoch : 1400.0000 , cost = 0.001260\n",
            "epoch : 1500.0000 , cost = 0.001185\n",
            "epoch : 1600.0000 , cost = 0.001115\n",
            "epoch : 1700.0000 , cost = 0.001050\n",
            "epoch : 1800.0000 , cost = 0.000988\n",
            "epoch : 1900.0000 , cost = 0.000930\n",
            "epoch : 2000.0000 , cost = 0.000876\n",
            "epoch : 2100.0000 , cost = 0.000825\n",
            "epoch : 2200.0000 , cost = 0.000777\n",
            "epoch : 2300.0000 , cost = 0.000732\n",
            "epoch : 2400.0000 , cost = 0.000690\n",
            "epoch : 2500.0000 , cost = 0.000650\n",
            "epoch : 2600.0000 , cost = 0.000613\n",
            "epoch : 2700.0000 , cost = 0.000578\n",
            "epoch : 2800.0000 , cost = 0.000545\n",
            "epoch : 2900.0000 , cost = 0.000514\n",
            "epoch : 3000.0000 , cost = 0.000484\n",
            "epoch : 3100.0000 , cost = 0.000457\n",
            "epoch : 3200.0000 , cost = 0.000431\n",
            "epoch : 3300.0000 , cost = 0.000407\n",
            "epoch : 3400.0000 , cost = 0.000384\n",
            "epoch : 3500.0000 , cost = 0.000362\n",
            "epoch : 3600.0000 , cost = 0.000342\n",
            "epoch : 3700.0000 , cost = 0.000322\n",
            "epoch : 3800.0000 , cost = 0.000304\n",
            "epoch : 3900.0000 , cost = 0.000287\n",
            "epoch : 4000.0000 , cost = 0.000271\n",
            "epoch : 4100.0000 , cost = 0.000256\n",
            "epoch : 4200.0000 , cost = 0.000242\n",
            "epoch : 4300.0000 , cost = 0.000228\n",
            "epoch : 4400.0000 , cost = 0.000216\n",
            "epoch : 4500.0000 , cost = 0.000204\n",
            "epoch : 4600.0000 , cost = 0.000192\n",
            "epoch : 4700.0000 , cost = 0.000182\n",
            "epoch : 4800.0000 , cost = 0.000172\n",
            "epoch : 4900.0000 , cost = 0.000162\n",
            "epoch : 5000.0000 , cost = 0.000153\n",
            "[['i', 'like'], ['i', 'love'], ['i', 'hate']] -> ['dog', 'coffee', 'milk']\n"
          ],
          "name": "stdout"
        }
      ]
    },
    {
      "cell_type": "code",
      "metadata": {
        "id": "XnURlylEKkUB",
        "colab_type": "code",
        "colab": {}
      },
      "source": [
        ""
      ],
      "execution_count": 37,
      "outputs": []
    }
  ]
}